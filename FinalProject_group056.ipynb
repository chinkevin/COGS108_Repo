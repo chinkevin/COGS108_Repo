{
 "cells": [
  {
   "cell_type": "markdown",
   "metadata": {},
   "source": [
    "# COGS 108 - Final Project Proposal"
   ]
  },
  {
   "cell_type": "markdown",
   "metadata": {},
   "source": [
    "# Names\n",
    "\n",
    "- Darren Chang\n",
    "- Sueanne Liang\n",
    "- Kevin Chin\n",
    "- Haozong Zeng\n"
   ]
  },
  {
   "cell_type": "markdown",
   "metadata": {},
   "source": [
    "# Group Members IDs\n",
    "\n",
    "- A15086464\n",
    "- A14100643\n",
    "- A15479815\n",
    "- A15490128"
   ]
  },
  {
   "cell_type": "markdown",
   "metadata": {},
   "source": [
    "# Research Question"
   ]
  },
  {
   "cell_type": "markdown",
   "metadata": {},
   "source": [
    "From the six variables of social support, personal freedom, government corruption level, generosity, GDP per capita, and life expectancy, which one contributes the most to the average citizen’s happiness?"
   ]
  },
  {
   "cell_type": "markdown",
   "metadata": {},
   "source": [
    "## Background and Prior Work"
   ]
  },
  {
   "cell_type": "markdown",
   "metadata": {},
   "source": [
    "According to the World Happiness Report, Finland is currently the happiest country in the world. In fact Nordic countries have consistently taken the title for happiest country. The World Happiness Report is an annual poll on global happiness that estimates the impact of six factors--economy, levels of social support provided by government, healthy life expectancy, personal freedom, generosity, and perceptions of corruption--has on a citizen’s happiness and satisfaction with life. In the United States, we pride ourselves on having a large degree of personal freedom and having one of the world’s strongest economies. Yet, we are only the world’s 19th happiest country. In fact, Nordic countries are rated to be the happiest, despite being neither the richest nor the most free. Obviously, money isn’t buying Americans happiness and neither is freedom. So what exactly is making Finland and other Nordic countries the happiest in the world and how can we use this information to better ourselves? In this project, we aim to identify the factor that has the most impact on happiness. The inspiration behind this goal comes in light of the political division and general unhappiness in the U.S in recent times as we fall in ranks every year in our happiness ratings. We believe that this project is important because our findings in this project will offer valuable insight into what area the government should focus on for the people to lead happier lives.\n",
    "From a preliminary exploration of the data, we hypothesize that social support is the most important factor in happiness. Initially, we hypothesized that a strong economy would be the most important factor in citizen happiness. We reasoned that without basic economic security, people would be unable to fulfill their basic physiological and security needs and thus economy is the most important factor from turning unhappy citizens into happy citizens. However, after a closer look at the data, we noticed that while Finland, Norway, Denmark and Switzerland--the happiest countries in the last 5 years--do not always rank consistently at the top for the other factors, they always rank in the top ten for social support. According to Maslow’s hierarchy of needs--a psychology theory on happiness--physiological and safety needs need to be met in order for one to feel content but feelings of love and belonging are higher in the hierarchy and bring one more joy. Therefore, having social support can be argued to bring more happiness than just strong economy alone according to Maslow’s hierarchy of needs. Thus, we hypothesize that social support is the factor with the most impact in increasing one’s happiness. \n",
    " \n",
    "Projects with a similar goal of identifying a mix of the most important factors to a happy life have been done with the World Happiness Report 2017 data. Some utilized the World Happiness Report data only and others mixed in WHO suicide statistics. Most of them built predictive models and valued high accuracy for their model. One project found that all the independent variables--family, economy, life expectancy, trust, freedom, generosity and dystopia residual--have a significant impact on happiness. For our project, we will be using the World Happiness Report data in 2019 which took out the variables family, trust, and dystopia residual and put in corruption levels and social support instead. Unlike the other projects that aim to find a mix of factors, we aim to find one factor--the most important factor in happiness. Instead of building a predictive model with the best mix of factors for a high accuracy rating, we will focus on building a predictive model for each variable and identifying the variable with the best predictive qualities. \n",
    "\n",
    "References:  \n",
    "(1) Why Finland is the Happiest Country in the World https://www.sbs.com.au/news/why-finland-is-the-happiest-country-in-the-world  \n",
    "(2) Finland is the World’s Happiest Country - Again\n",
    "https://www.weforum.org/agenda/2019/03/finland-is-the-world-s-happiest-country-again/  \n",
    "(3) World Happiness Report Dataset\n",
    "https://www.kaggle.com/unsdsn/world-happiness  \n",
    "(4) Mental Health, Happiness, Economics, Human Freedom\n",
    "https://www.kaggle.com/rblcoder/mental-health-happiness-economics-human-freedom  \n",
    "(5) Happiness 2017\n",
    "https://www.kaggle.com/javadzabihi/happiness-2017-visualization-prediction#prediction  \n",
    "(6) World Happiness Report 2019\n",
    "https://worldhappiness.report/ed/2019/#read  \n"
   ]
  },
  {
   "cell_type": "markdown",
   "metadata": {},
   "source": [
    "# Hypothesis\n"
   ]
  },
  {
   "cell_type": "markdown",
   "metadata": {},
   "source": [
    "We predict that countries that offer the most social support will have the highest happiness ratings. In other words, social support is the factor with the most impact on a citizen’s happiness. "
   ]
  },
  {
   "cell_type": "markdown",
   "metadata": {},
   "source": [
    "# Data"
   ]
  },
  {
   "cell_type": "markdown",
   "metadata": {},
   "source": [
    "Our ideal data would have one observation per country, which contains the average of the six variables (e.g. satisfaction with life,economy, corruption in government, etc.) from that country’s civilians. There should be data for every country--of which there are 195 countries total in the world. The sample size for each country should be sufficient to reach a 95% confidence interval for the happiness estimate. Additionally, data or notes about a country’s current economic and political affairs would also be interesting to include and provides insight as to why ratings for a variable like corruption is unfavorable."
   ]
  },
  {
   "cell_type": "markdown",
   "metadata": {},
   "source": [
    "# Ethics & Privacy"
   ]
  },
  {
   "cell_type": "markdown",
   "metadata": {},
   "source": [
    "Our data was taken from the World Happiness Report, which primarily uses data from the Gallup World Poll. This data is made available to the public to download, so there are no terms of use regarding the data. Since the data describes entities as large as countries, there are no real privacy concerns.  \n",
    "A concern would be that the data may not accurately represent the population of a given country—people who are unhappy may be less likely to respond.   Additionally, some citizens in countries with a more restrictive degree of freedom may also not respond. This is especially true because the Gallup World Poll uses telephone interviews to gather data. In countries with less than 80% telephone coverage, face-to-face interviews are used instead, leading to response bias.  \n",
    "An issue with determining what factors provide happiness is that the notion of happiness is vague: it differs from person to person. However, when an individual sees that they lack what we may deem as important for happiness, he or she may be dissatisfied. Alternatively, one may pursue these things and still find themselves unsatisfied with their life. It is also important to differentiate life satisfaction from daily happiness. It’s entirely possible for an individual to be dissatisfied with their career or income and still experience happiness in their daily life; these people may be misrepresented. It is also worth noting that despite having the highest happiness score, Finland places 32 out of 183 for highest suicide rates. This should highlight the fact that our metrics aren’t absolute.  \n",
    "These issues stem from the data gathering process and philosophical issues that we are not able to remedy. We must instead emphasize that our results are not definite, especially so at the level of an individual.\n"
   ]
  },
  {
   "cell_type": "markdown",
   "metadata": {},
   "source": [
    "# Team Expectations "
   ]
  },
  {
   "cell_type": "markdown",
   "metadata": {},
   "source": [
    "We will follow our project timeline by:\n",
    "* having regular meeting times throughout the quarter to check in with one another, discuss progress and see if the project is on task, \n",
    "* making consistent progress on the project \n",
    "* breaking down the project into parts and spacing work out appropriately\n",
    "\n",
    "Team Members should be Expected to: \n",
    "* be responsive to text\n",
    "* not be late without letting their team know beforehand and should attend most, if not all, meetings. \n",
    "* be willing to help others even if they are not in charge of a particular section\n",
    "* commit to project deadlines\n",
    "\n",
    "Project Aspects:\n",
    "* Deciding on the project topic, searching for possible datasets, and honing the data science question.\n",
    "* Writing well-commented and clear code to wrangle, explore, visualize, analyze, and communicate your groups’ findings.\n",
    "* Writing the accompanying text throughout the project to explain each section.\n",
    "* Editing the text and code throughout your project for grammar, misspellings, and clarity.\n"
   ]
  },
  {
   "cell_type": "markdown",
   "metadata": {},
   "source": [
    "# Project Timeline Proposal"
   ]
  },
  {
   "cell_type": "markdown",
   "metadata": {},
   "source": [
    "| Week | Meeting Date  | Meeting Time| Completed Before Meeting  | Discuss at Meeting |\n",
    "|--|---|---|---|---|\n",
    "|5| 2/3  |  1 PM | Background research about the topic   | Discuss what techniques we need to use, how to clean data, assign leaders for each section\n",
    " | \n",
    "|5| 2/7  |  10 AM |  Data is cleaned and ready to use | Work on Data Cleaning portion of report | \n",
    "|6| 2/11  | 10 AM  | Have a rough draft written up for Data Cleaning  | Work on the EDA and Analysis portion of Data Analysis & Results   |\n",
    "|6| 2/13  | 6 PM  | Some work on EDA and Analysis | Work on the EDA and Analysis   |\n",
    "|7| 2/17  | 12 PM  | More work on EDA and Analysis | Finish up work on EDA and analysis |\n",
    "|7| 2/20  | 12 PM  | Have a rough draft written up for EDA & Analysis| Work on data visualizations |\n",
    "|7| 2/21  | Before 11:59 PM  | Project check-in written | Turn in project check-in |\n",
    "|8| 2/24  | Before 11:59 PM  | Some work on Data Visualizations | Finish up data viz, start Ethics & Conclusion |\n",
    "|8| 2/28  | Before 11:59 PM  | Data visualizations finished, rough draft written up for Ethics & Privacy and Conclusion | Finish up Ethics & Conclusion |\n",
    "|9| 3/3  | Before 11:59 PM  | Ethics & Conclusion finished | Go over the rest of the report and make any changes |\n",
    "|10| 3/10  | Before 11:59 PM  | Final changes made | Final edits to project |\n",
    "|Finals| 3/19  | Before 11:59 PM  | Project ready | Turn in project |"
   ]
  },
  {
   "cell_type": "code",
   "execution_count": null,
   "metadata": {},
   "outputs": [],
   "source": []
  }
 ],
 "metadata": {
  "kernelspec": {
   "display_name": "Python 3",
   "language": "python",
   "name": "python3"
  },
  "language_info": {
   "codemirror_mode": {
    "name": "ipython",
    "version": 3
   },
   "file_extension": ".py",
   "mimetype": "text/x-python",
   "name": "python",
   "nbconvert_exporter": "python",
   "pygments_lexer": "ipython3",
   "version": "3.6.6"
  }
 },
 "nbformat": 4,
 "nbformat_minor": 2
}
